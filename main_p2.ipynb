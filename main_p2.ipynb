{
 "cells": [
  {
   "cell_type": "code",
   "execution_count": 1,
   "metadata": {
    "collapsed": true,
    "pycharm": {
     "name": "#%%\n"
    }
   },
   "outputs": [],
   "source": [
    "from utils_dfs import *\n",
    "from utils_fta import *\n",
    "import pandas as pd"
   ]
  },
  {
   "cell_type": "code",
   "execution_count": 2,
   "metadata": {
    "collapsed": false,
    "pycharm": {
     "name": "#%%\n"
    }
   },
   "outputs": [],
   "source": [
    "bench_filepath = \"./bench_files/s2.bench\"\n",
    "fault_table_path = \"./fault_tables/s2.html\""
   ]
  },
  {
   "cell_type": "markdown",
   "metadata": {
    "collapsed": false,
    "pycharm": {
     "name": "#%% md\n"
    }
   },
   "source": [
    "# Process Circuit and Tests"
   ]
  },
  {
   "cell_type": "code",
   "execution_count": 3,
   "metadata": {
    "collapsed": false,
    "pycharm": {
     "name": "#%%\n"
    }
   },
   "outputs": [],
   "source": [
    "circuit_data = process_circuit_file(bench_filepath)\n",
    "input_list, gate_list, fanout_list, output_list = split_circuit(circuit_data)\n",
    "wires = create_wires(circuit_data)\n",
    "input_wires = create_input_wires(input_list)\n",
    "gates_output_wires = create_gates_output_wires(gate_list)"
   ]
  },
  {
   "cell_type": "code",
   "execution_count": 4,
   "metadata": {
    "collapsed": false,
    "pycharm": {
     "name": "#%%\n"
    }
   },
   "outputs": [],
   "source": [
    "input_values = generate_bit_combinations(n=len(input_list))"
   ]
  },
  {
   "cell_type": "code",
   "execution_count": 5,
   "metadata": {
    "collapsed": false,
    "pycharm": {
     "name": "#%%\n"
    }
   },
   "outputs": [],
   "source": [
    "U_set = create_union_set(wires)\n",
    "all_faults = list(U_set)\n",
    "all_faults = sorted(all_faults, key=fault_sorter)"
   ]
  },
  {
   "cell_type": "markdown",
   "metadata": {
    "collapsed": false,
    "pycharm": {
     "name": "#%% md\n"
    }
   },
   "source": [
    "# Fault Simulation"
   ]
  },
  {
   "cell_type": "code",
   "execution_count": 6,
   "metadata": {
    "collapsed": false,
    "pycharm": {
     "name": "#%%\n"
    }
   },
   "outputs": [],
   "source": [
    "all_discovered_faults = []\n",
    "for input_value in input_values:\n",
    "    input_vector = {key: value for key, value in zip(input_list, list(input_value))}\n",
    "\n",
    "    simulation_dict = create_simulation_list(wires)\n",
    "    tvs = true_value_simulation(\n",
    "        input_vector,\n",
    "        simulation_dict,\n",
    "        fanout_list,\n",
    "        gate_list,\n",
    "        input_wires,\n",
    "        gates_output_wires\n",
    "    )\n",
    "\n",
    "    La_dict = init_fault_list(wires, tvs)\n",
    "    dfs = deductive_fault_simulation(\n",
    "        La_dict,\n",
    "        input_list,\n",
    "        fanout_list,\n",
    "        gates_output_wires,\n",
    "        gate_list,\n",
    "        tvs,\n",
    "        U_set\n",
    "    )\n",
    "\n",
    "    discovered_faults = set()\n",
    "    for output_wire in output_list:\n",
    "        faults = dfs['L_w' + output_wire]\n",
    "        discovered_faults = discovered_faults.union(faults)\n",
    "    all_discovered_faults.append(list(discovered_faults))"
   ]
  },
  {
   "cell_type": "markdown",
   "metadata": {
    "collapsed": false,
    "pycharm": {
     "name": "#%% md\n"
    }
   },
   "source": [
    "# Create Fault Table"
   ]
  },
  {
   "cell_type": "code",
   "execution_count": 7,
   "metadata": {
    "collapsed": false,
    "pycharm": {
     "name": "#%%\n"
    }
   },
   "outputs": [],
   "source": [
    "fault_table = create_fault_table(input_values, all_discovered_faults, all_faults)"
   ]
  },
  {
   "cell_type": "code",
   "execution_count": 8,
   "metadata": {
    "collapsed": false,
    "pycharm": {
     "name": "#%%\n"
    }
   },
   "outputs": [
    {
     "data": {
      "text/html": [
       "<div>\n",
       "<style scoped>\n",
       "    .dataframe tbody tr th:only-of-type {\n",
       "        vertical-align: middle;\n",
       "    }\n",
       "\n",
       "    .dataframe tbody tr th {\n",
       "        vertical-align: top;\n",
       "    }\n",
       "\n",
       "    .dataframe thead th {\n",
       "        text-align: right;\n",
       "    }\n",
       "</style>\n",
       "<table border=\"1\" class=\"dataframe\">\n",
       "  <thead>\n",
       "    <tr style=\"text-align: right;\">\n",
       "      <th></th>\n",
       "      <th>-</th>\n",
       "      <th>w1_s0</th>\n",
       "      <th>w1_s1</th>\n",
       "      <th>w2_s0</th>\n",
       "      <th>w2_s1</th>\n",
       "      <th>w3_s0</th>\n",
       "      <th>w3_s1</th>\n",
       "      <th>w4_s0</th>\n",
       "      <th>w4_s1</th>\n",
       "      <th>w5_s0</th>\n",
       "      <th>...</th>\n",
       "      <th>w5_1_s0</th>\n",
       "      <th>w5_1_s1</th>\n",
       "      <th>w5_2_s0</th>\n",
       "      <th>w5_2_s1</th>\n",
       "      <th>w6_s0</th>\n",
       "      <th>w6_s1</th>\n",
       "      <th>w7_s0</th>\n",
       "      <th>w7_s1</th>\n",
       "      <th>w8_s0</th>\n",
       "      <th>w8_s1</th>\n",
       "    </tr>\n",
       "  </thead>\n",
       "  <tbody>\n",
       "    <tr>\n",
       "      <th>0</th>\n",
       "      <td>0000</td>\n",
       "      <td>0</td>\n",
       "      <td>0</td>\n",
       "      <td>0</td>\n",
       "      <td>0</td>\n",
       "      <td>0</td>\n",
       "      <td>0</td>\n",
       "      <td>0</td>\n",
       "      <td>0</td>\n",
       "      <td>0</td>\n",
       "      <td>...</td>\n",
       "      <td>0</td>\n",
       "      <td>0</td>\n",
       "      <td>0</td>\n",
       "      <td>0</td>\n",
       "      <td>0</td>\n",
       "      <td>0</td>\n",
       "      <td>0</td>\n",
       "      <td>0</td>\n",
       "      <td>0</td>\n",
       "      <td>1</td>\n",
       "    </tr>\n",
       "    <tr>\n",
       "      <th>1</th>\n",
       "      <td>0001</td>\n",
       "      <td>0</td>\n",
       "      <td>1</td>\n",
       "      <td>0</td>\n",
       "      <td>0</td>\n",
       "      <td>0</td>\n",
       "      <td>0</td>\n",
       "      <td>0</td>\n",
       "      <td>0</td>\n",
       "      <td>0</td>\n",
       "      <td>...</td>\n",
       "      <td>0</td>\n",
       "      <td>1</td>\n",
       "      <td>0</td>\n",
       "      <td>0</td>\n",
       "      <td>0</td>\n",
       "      <td>1</td>\n",
       "      <td>0</td>\n",
       "      <td>0</td>\n",
       "      <td>0</td>\n",
       "      <td>1</td>\n",
       "    </tr>\n",
       "    <tr>\n",
       "      <th>2</th>\n",
       "      <td>0010</td>\n",
       "      <td>0</td>\n",
       "      <td>0</td>\n",
       "      <td>0</td>\n",
       "      <td>1</td>\n",
       "      <td>0</td>\n",
       "      <td>0</td>\n",
       "      <td>0</td>\n",
       "      <td>0</td>\n",
       "      <td>0</td>\n",
       "      <td>...</td>\n",
       "      <td>0</td>\n",
       "      <td>0</td>\n",
       "      <td>0</td>\n",
       "      <td>0</td>\n",
       "      <td>0</td>\n",
       "      <td>0</td>\n",
       "      <td>0</td>\n",
       "      <td>0</td>\n",
       "      <td>0</td>\n",
       "      <td>1</td>\n",
       "    </tr>\n",
       "    <tr>\n",
       "      <th>3</th>\n",
       "      <td>0011</td>\n",
       "      <td>0</td>\n",
       "      <td>1</td>\n",
       "      <td>0</td>\n",
       "      <td>1</td>\n",
       "      <td>0</td>\n",
       "      <td>0</td>\n",
       "      <td>0</td>\n",
       "      <td>0</td>\n",
       "      <td>0</td>\n",
       "      <td>...</td>\n",
       "      <td>0</td>\n",
       "      <td>1</td>\n",
       "      <td>0</td>\n",
       "      <td>0</td>\n",
       "      <td>0</td>\n",
       "      <td>1</td>\n",
       "      <td>0</td>\n",
       "      <td>0</td>\n",
       "      <td>0</td>\n",
       "      <td>1</td>\n",
       "    </tr>\n",
       "    <tr>\n",
       "      <th>4</th>\n",
       "      <td>0100</td>\n",
       "      <td>0</td>\n",
       "      <td>0</td>\n",
       "      <td>0</td>\n",
       "      <td>0</td>\n",
       "      <td>0</td>\n",
       "      <td>1</td>\n",
       "      <td>0</td>\n",
       "      <td>0</td>\n",
       "      <td>0</td>\n",
       "      <td>...</td>\n",
       "      <td>0</td>\n",
       "      <td>0</td>\n",
       "      <td>0</td>\n",
       "      <td>0</td>\n",
       "      <td>0</td>\n",
       "      <td>0</td>\n",
       "      <td>0</td>\n",
       "      <td>0</td>\n",
       "      <td>0</td>\n",
       "      <td>1</td>\n",
       "    </tr>\n",
       "    <tr>\n",
       "      <th>5</th>\n",
       "      <td>0101</td>\n",
       "      <td>0</td>\n",
       "      <td>1</td>\n",
       "      <td>0</td>\n",
       "      <td>0</td>\n",
       "      <td>0</td>\n",
       "      <td>1</td>\n",
       "      <td>0</td>\n",
       "      <td>0</td>\n",
       "      <td>0</td>\n",
       "      <td>...</td>\n",
       "      <td>0</td>\n",
       "      <td>1</td>\n",
       "      <td>0</td>\n",
       "      <td>0</td>\n",
       "      <td>0</td>\n",
       "      <td>1</td>\n",
       "      <td>0</td>\n",
       "      <td>0</td>\n",
       "      <td>0</td>\n",
       "      <td>1</td>\n",
       "    </tr>\n",
       "    <tr>\n",
       "      <th>6</th>\n",
       "      <td>0110</td>\n",
       "      <td>0</td>\n",
       "      <td>0</td>\n",
       "      <td>1</td>\n",
       "      <td>0</td>\n",
       "      <td>1</td>\n",
       "      <td>0</td>\n",
       "      <td>0</td>\n",
       "      <td>0</td>\n",
       "      <td>1</td>\n",
       "      <td>...</td>\n",
       "      <td>1</td>\n",
       "      <td>0</td>\n",
       "      <td>1</td>\n",
       "      <td>0</td>\n",
       "      <td>1</td>\n",
       "      <td>0</td>\n",
       "      <td>1</td>\n",
       "      <td>0</td>\n",
       "      <td>1</td>\n",
       "      <td>0</td>\n",
       "    </tr>\n",
       "    <tr>\n",
       "      <th>7</th>\n",
       "      <td>0111</td>\n",
       "      <td>0</td>\n",
       "      <td>0</td>\n",
       "      <td>1</td>\n",
       "      <td>0</td>\n",
       "      <td>1</td>\n",
       "      <td>0</td>\n",
       "      <td>0</td>\n",
       "      <td>0</td>\n",
       "      <td>1</td>\n",
       "      <td>...</td>\n",
       "      <td>1</td>\n",
       "      <td>0</td>\n",
       "      <td>0</td>\n",
       "      <td>0</td>\n",
       "      <td>1</td>\n",
       "      <td>0</td>\n",
       "      <td>1</td>\n",
       "      <td>0</td>\n",
       "      <td>1</td>\n",
       "      <td>0</td>\n",
       "    </tr>\n",
       "    <tr>\n",
       "      <th>8</th>\n",
       "      <td>1000</td>\n",
       "      <td>0</td>\n",
       "      <td>0</td>\n",
       "      <td>0</td>\n",
       "      <td>0</td>\n",
       "      <td>0</td>\n",
       "      <td>0</td>\n",
       "      <td>0</td>\n",
       "      <td>1</td>\n",
       "      <td>0</td>\n",
       "      <td>...</td>\n",
       "      <td>0</td>\n",
       "      <td>0</td>\n",
       "      <td>0</td>\n",
       "      <td>1</td>\n",
       "      <td>0</td>\n",
       "      <td>0</td>\n",
       "      <td>0</td>\n",
       "      <td>1</td>\n",
       "      <td>0</td>\n",
       "      <td>1</td>\n",
       "    </tr>\n",
       "    <tr>\n",
       "      <th>9</th>\n",
       "      <td>1001</td>\n",
       "      <td>1</td>\n",
       "      <td>0</td>\n",
       "      <td>0</td>\n",
       "      <td>0</td>\n",
       "      <td>0</td>\n",
       "      <td>0</td>\n",
       "      <td>1</td>\n",
       "      <td>0</td>\n",
       "      <td>0</td>\n",
       "      <td>...</td>\n",
       "      <td>0</td>\n",
       "      <td>0</td>\n",
       "      <td>0</td>\n",
       "      <td>0</td>\n",
       "      <td>1</td>\n",
       "      <td>0</td>\n",
       "      <td>1</td>\n",
       "      <td>0</td>\n",
       "      <td>1</td>\n",
       "      <td>0</td>\n",
       "    </tr>\n",
       "    <tr>\n",
       "      <th>10</th>\n",
       "      <td>1010</td>\n",
       "      <td>0</td>\n",
       "      <td>0</td>\n",
       "      <td>0</td>\n",
       "      <td>1</td>\n",
       "      <td>0</td>\n",
       "      <td>0</td>\n",
       "      <td>0</td>\n",
       "      <td>1</td>\n",
       "      <td>0</td>\n",
       "      <td>...</td>\n",
       "      <td>0</td>\n",
       "      <td>0</td>\n",
       "      <td>0</td>\n",
       "      <td>1</td>\n",
       "      <td>0</td>\n",
       "      <td>0</td>\n",
       "      <td>0</td>\n",
       "      <td>1</td>\n",
       "      <td>0</td>\n",
       "      <td>1</td>\n",
       "    </tr>\n",
       "    <tr>\n",
       "      <th>11</th>\n",
       "      <td>1011</td>\n",
       "      <td>1</td>\n",
       "      <td>0</td>\n",
       "      <td>0</td>\n",
       "      <td>0</td>\n",
       "      <td>0</td>\n",
       "      <td>0</td>\n",
       "      <td>1</td>\n",
       "      <td>0</td>\n",
       "      <td>0</td>\n",
       "      <td>...</td>\n",
       "      <td>0</td>\n",
       "      <td>0</td>\n",
       "      <td>0</td>\n",
       "      <td>0</td>\n",
       "      <td>1</td>\n",
       "      <td>0</td>\n",
       "      <td>1</td>\n",
       "      <td>0</td>\n",
       "      <td>1</td>\n",
       "      <td>0</td>\n",
       "    </tr>\n",
       "    <tr>\n",
       "      <th>12</th>\n",
       "      <td>1100</td>\n",
       "      <td>0</td>\n",
       "      <td>0</td>\n",
       "      <td>0</td>\n",
       "      <td>0</td>\n",
       "      <td>0</td>\n",
       "      <td>1</td>\n",
       "      <td>0</td>\n",
       "      <td>1</td>\n",
       "      <td>0</td>\n",
       "      <td>...</td>\n",
       "      <td>0</td>\n",
       "      <td>0</td>\n",
       "      <td>0</td>\n",
       "      <td>1</td>\n",
       "      <td>0</td>\n",
       "      <td>0</td>\n",
       "      <td>0</td>\n",
       "      <td>1</td>\n",
       "      <td>0</td>\n",
       "      <td>1</td>\n",
       "    </tr>\n",
       "    <tr>\n",
       "      <th>13</th>\n",
       "      <td>1101</td>\n",
       "      <td>1</td>\n",
       "      <td>0</td>\n",
       "      <td>0</td>\n",
       "      <td>0</td>\n",
       "      <td>0</td>\n",
       "      <td>0</td>\n",
       "      <td>1</td>\n",
       "      <td>0</td>\n",
       "      <td>0</td>\n",
       "      <td>...</td>\n",
       "      <td>0</td>\n",
       "      <td>0</td>\n",
       "      <td>0</td>\n",
       "      <td>0</td>\n",
       "      <td>1</td>\n",
       "      <td>0</td>\n",
       "      <td>1</td>\n",
       "      <td>0</td>\n",
       "      <td>1</td>\n",
       "      <td>0</td>\n",
       "    </tr>\n",
       "    <tr>\n",
       "      <th>14</th>\n",
       "      <td>1110</td>\n",
       "      <td>0</td>\n",
       "      <td>0</td>\n",
       "      <td>1</td>\n",
       "      <td>0</td>\n",
       "      <td>1</td>\n",
       "      <td>0</td>\n",
       "      <td>0</td>\n",
       "      <td>0</td>\n",
       "      <td>1</td>\n",
       "      <td>...</td>\n",
       "      <td>0</td>\n",
       "      <td>0</td>\n",
       "      <td>1</td>\n",
       "      <td>0</td>\n",
       "      <td>1</td>\n",
       "      <td>0</td>\n",
       "      <td>1</td>\n",
       "      <td>0</td>\n",
       "      <td>1</td>\n",
       "      <td>0</td>\n",
       "    </tr>\n",
       "    <tr>\n",
       "      <th>15</th>\n",
       "      <td>1111</td>\n",
       "      <td>0</td>\n",
       "      <td>0</td>\n",
       "      <td>0</td>\n",
       "      <td>0</td>\n",
       "      <td>0</td>\n",
       "      <td>0</td>\n",
       "      <td>0</td>\n",
       "      <td>0</td>\n",
       "      <td>0</td>\n",
       "      <td>...</td>\n",
       "      <td>0</td>\n",
       "      <td>0</td>\n",
       "      <td>0</td>\n",
       "      <td>0</td>\n",
       "      <td>1</td>\n",
       "      <td>0</td>\n",
       "      <td>1</td>\n",
       "      <td>0</td>\n",
       "      <td>1</td>\n",
       "      <td>0</td>\n",
       "    </tr>\n",
       "  </tbody>\n",
       "</table>\n",
       "<p>16 rows × 21 columns</p>\n",
       "</div>"
      ],
      "text/plain": [
       "       -  w1_s0  w1_s1  w2_s0  w2_s1  w3_s0  w3_s1  w4_s0  w4_s1  w5_s0  ...  \\\n",
       "0   0000      0      0      0      0      0      0      0      0      0  ...   \n",
       "1   0001      0      1      0      0      0      0      0      0      0  ...   \n",
       "2   0010      0      0      0      1      0      0      0      0      0  ...   \n",
       "3   0011      0      1      0      1      0      0      0      0      0  ...   \n",
       "4   0100      0      0      0      0      0      1      0      0      0  ...   \n",
       "5   0101      0      1      0      0      0      1      0      0      0  ...   \n",
       "6   0110      0      0      1      0      1      0      0      0      1  ...   \n",
       "7   0111      0      0      1      0      1      0      0      0      1  ...   \n",
       "8   1000      0      0      0      0      0      0      0      1      0  ...   \n",
       "9   1001      1      0      0      0      0      0      1      0      0  ...   \n",
       "10  1010      0      0      0      1      0      0      0      1      0  ...   \n",
       "11  1011      1      0      0      0      0      0      1      0      0  ...   \n",
       "12  1100      0      0      0      0      0      1      0      1      0  ...   \n",
       "13  1101      1      0      0      0      0      0      1      0      0  ...   \n",
       "14  1110      0      0      1      0      1      0      0      0      1  ...   \n",
       "15  1111      0      0      0      0      0      0      0      0      0  ...   \n",
       "\n",
       "    w5_1_s0  w5_1_s1  w5_2_s0  w5_2_s1  w6_s0  w6_s1  w7_s0  w7_s1  w8_s0  \\\n",
       "0         0        0        0        0      0      0      0      0      0   \n",
       "1         0        1        0        0      0      1      0      0      0   \n",
       "2         0        0        0        0      0      0      0      0      0   \n",
       "3         0        1        0        0      0      1      0      0      0   \n",
       "4         0        0        0        0      0      0      0      0      0   \n",
       "5         0        1        0        0      0      1      0      0      0   \n",
       "6         1        0        1        0      1      0      1      0      1   \n",
       "7         1        0        0        0      1      0      1      0      1   \n",
       "8         0        0        0        1      0      0      0      1      0   \n",
       "9         0        0        0        0      1      0      1      0      1   \n",
       "10        0        0        0        1      0      0      0      1      0   \n",
       "11        0        0        0        0      1      0      1      0      1   \n",
       "12        0        0        0        1      0      0      0      1      0   \n",
       "13        0        0        0        0      1      0      1      0      1   \n",
       "14        0        0        1        0      1      0      1      0      1   \n",
       "15        0        0        0        0      1      0      1      0      1   \n",
       "\n",
       "    w8_s1  \n",
       "0       1  \n",
       "1       1  \n",
       "2       1  \n",
       "3       1  \n",
       "4       1  \n",
       "5       1  \n",
       "6       0  \n",
       "7       0  \n",
       "8       1  \n",
       "9       0  \n",
       "10      1  \n",
       "11      0  \n",
       "12      1  \n",
       "13      0  \n",
       "14      0  \n",
       "15      0  \n",
       "\n",
       "[16 rows x 21 columns]"
      ]
     },
     "execution_count": 8,
     "metadata": {},
     "output_type": "execute_result"
    }
   ],
   "source": [
    "df = pd.DataFrame(fault_table[1:], columns=fault_table[0])\n",
    "df.to_html(fault_table_path, index=False)\n",
    "df"
   ]
  },
  {
   "cell_type": "code",
   "execution_count": 9,
   "metadata": {
    "collapsed": false,
    "pycharm": {
     "name": "#%%\n"
    }
   },
   "outputs": [
    {
     "name": "stdout",
     "output_type": "stream",
     "text": [
      "['-', 'w1_s0', 'w1_s1', 'w2_s0', 'w2_s1', 'w3_s0', 'w3_s1', 'w4_s0', 'w4_s1', 'w5_s0', 'w5_s1', 'w5_1_s0', 'w5_1_s1', 'w5_2_s0', 'w5_2_s1', 'w6_s0', 'w6_s1', 'w7_s0', 'w7_s1', 'w8_s0', 'w8_s1']\n",
      "['0000', 0, 0, 0, 0, 0, 0, 0, 0, 0, 1, 0, 0, 0, 0, 0, 0, 0, 0, 0, 1]\n",
      "['0001', 0, 1, 0, 0, 0, 0, 0, 0, 0, 1, 0, 1, 0, 0, 0, 1, 0, 0, 0, 1]\n",
      "['0010', 0, 0, 0, 1, 0, 0, 0, 0, 0, 1, 0, 0, 0, 0, 0, 0, 0, 0, 0, 1]\n",
      "['0011', 0, 1, 0, 1, 0, 0, 0, 0, 0, 1, 0, 1, 0, 0, 0, 1, 0, 0, 0, 1]\n",
      "['0100', 0, 0, 0, 0, 0, 1, 0, 0, 0, 1, 0, 0, 0, 0, 0, 0, 0, 0, 0, 1]\n",
      "['0101', 0, 1, 0, 0, 0, 1, 0, 0, 0, 1, 0, 1, 0, 0, 0, 1, 0, 0, 0, 1]\n",
      "['0110', 0, 0, 1, 0, 1, 0, 0, 0, 1, 0, 1, 0, 1, 0, 1, 0, 1, 0, 1, 0]\n",
      "['0111', 0, 0, 1, 0, 1, 0, 0, 0, 1, 0, 1, 0, 0, 0, 1, 0, 1, 0, 1, 0]\n",
      "['1000', 0, 0, 0, 0, 0, 0, 0, 1, 0, 1, 0, 0, 0, 1, 0, 0, 0, 1, 0, 1]\n",
      "['1001', 1, 0, 0, 0, 0, 0, 1, 0, 0, 0, 0, 0, 0, 0, 1, 0, 1, 0, 1, 0]\n",
      "['1010', 0, 0, 0, 1, 0, 0, 0, 1, 0, 1, 0, 0, 0, 1, 0, 0, 0, 1, 0, 1]\n",
      "['1011', 1, 0, 0, 0, 0, 0, 1, 0, 0, 0, 0, 0, 0, 0, 1, 0, 1, 0, 1, 0]\n",
      "['1100', 0, 0, 0, 0, 0, 1, 0, 1, 0, 1, 0, 0, 0, 1, 0, 0, 0, 1, 0, 1]\n",
      "['1101', 1, 0, 0, 0, 0, 0, 1, 0, 0, 0, 0, 0, 0, 0, 1, 0, 1, 0, 1, 0]\n",
      "['1110', 0, 0, 1, 0, 1, 0, 0, 0, 1, 0, 0, 0, 1, 0, 1, 0, 1, 0, 1, 0]\n",
      "['1111', 0, 0, 0, 0, 0, 0, 0, 0, 0, 0, 0, 0, 0, 0, 1, 0, 1, 0, 1, 0]\n"
     ]
    }
   ],
   "source": [
    "print_table(fault_table)"
   ]
  },
  {
   "cell_type": "markdown",
   "metadata": {
    "collapsed": false,
    "pycharm": {
     "name": "#%% md\n"
    }
   },
   "source": [
    "# Fault Table Analysis (FTA) and Fault Collapsing"
   ]
  },
  {
   "cell_type": "code",
   "execution_count": 10,
   "metadata": {
    "collapsed": false,
    "pycharm": {
     "name": "#%%\n"
    }
   },
   "outputs": [
    {
     "name": "stdout",
     "output_type": "stream",
     "text": [
      "['0000', 0, 0, 0, 0, 0, 0, 0, 0, 0, 1, 0, 0, 0, 0, 0, 0, 0, 0, 0, 1]\n",
      "['0001', 0, 1, 0, 0, 0, 0, 0, 0, 0, 1, 0, 1, 0, 0, 0, 1, 0, 0, 0, 1]\n",
      "['0010', 0, 0, 0, 1, 0, 0, 0, 0, 0, 1, 0, 0, 0, 0, 0, 0, 0, 0, 0, 1]\n",
      "['0011', 0, 1, 0, 1, 0, 0, 0, 0, 0, 1, 0, 1, 0, 0, 0, 1, 0, 0, 0, 1]\n",
      "['0100', 0, 0, 0, 0, 0, 1, 0, 0, 0, 1, 0, 0, 0, 0, 0, 0, 0, 0, 0, 1]\n",
      "['0101', 0, 1, 0, 0, 0, 1, 0, 0, 0, 1, 0, 1, 0, 0, 0, 1, 0, 0, 0, 1]\n",
      "['0110', 0, 0, 1, 0, 1, 0, 0, 0, 1, 0, 1, 0, 1, 0, 1, 0, 1, 0, 1, 0]\n",
      "['0111', 0, 0, 1, 0, 1, 0, 0, 0, 1, 0, 1, 0, 0, 0, 1, 0, 1, 0, 1, 0]\n",
      "['1000', 0, 0, 0, 0, 0, 0, 0, 1, 0, 1, 0, 0, 0, 1, 0, 0, 0, 1, 0, 1]\n",
      "['1001', 1, 0, 0, 0, 0, 0, 1, 0, 0, 0, 0, 0, 0, 0, 1, 0, 1, 0, 1, 0]\n",
      "['1010', 0, 0, 0, 1, 0, 0, 0, 1, 0, 1, 0, 0, 0, 1, 0, 0, 0, 1, 0, 1]\n",
      "['1011', 1, 0, 0, 0, 0, 0, 1, 0, 0, 0, 0, 0, 0, 0, 1, 0, 1, 0, 1, 0]\n",
      "['1100', 0, 0, 0, 0, 0, 1, 0, 1, 0, 1, 0, 0, 0, 1, 0, 0, 0, 1, 0, 1]\n",
      "['1101', 1, 0, 0, 0, 0, 0, 1, 0, 0, 0, 0, 0, 0, 0, 1, 0, 1, 0, 1, 0]\n",
      "['1110', 0, 0, 1, 0, 1, 0, 0, 0, 1, 0, 0, 0, 1, 0, 1, 0, 1, 0, 1, 0]\n",
      "['1111', 0, 0, 0, 0, 0, 0, 0, 0, 0, 0, 0, 0, 0, 0, 1, 0, 1, 0, 1, 0]\n"
     ]
    }
   ],
   "source": [
    "essential_tests, new_fault_table = prune_iterator(fault_table, find_essential, verbose=1)"
   ]
  },
  {
   "cell_type": "code",
   "execution_count": 11,
   "metadata": {
    "collapsed": false,
    "pycharm": {
     "name": "#%%\n"
    }
   },
   "outputs": [
    {
     "name": "stdout",
     "output_type": "stream",
     "text": [
      "['0000', 0, 0, 0, 0, 0, 0, 0, 0, 0, 1, 0, 0, 0, 0, 0, 0, 0, 0, 0, 1]\n",
      "['0001', 0, 1, 0, 0, 0, 0, 0, 0, 0, 1, 0, 1, 0, 0, 0, 1, 0, 0, 0, 1]\n",
      "['0010', 0, 0, 0, 1, 0, 0, 0, 0, 0, 1, 0, 0, 0, 0, 0, 0, 0, 0, 0, 1]\n",
      "['0011', 0, 1, 0, 1, 0, 0, 0, 0, 0, 1, 0, 1, 0, 0, 0, 1, 0, 0, 0, 1]\n",
      "['0100', 0, 0, 0, 0, 0, 1, 0, 0, 0, 1, 0, 0, 0, 0, 0, 0, 0, 0, 0, 1]\n",
      "['0101', 0, 1, 0, 0, 0, 1, 0, 0, 0, 1, 0, 1, 0, 0, 0, 1, 0, 0, 0, 1]\n",
      "['0110', 0, 0, 1, 0, 1, 0, 0, 0, 1, 0, 1, 0, 1, 0, 1, 0, 1, 0, 1, 0]\n",
      "['0111', 0, 0, 1, 0, 1, 0, 0, 0, 1, 0, 1, 0, 0, 0, 1, 0, 1, 0, 1, 0]\n",
      "['1000', 0, 0, 0, 0, 0, 0, 0, 1, 0, 1, 0, 0, 0, 1, 0, 0, 0, 1, 0, 1]\n",
      "['1001', 1, 0, 0, 0, 0, 0, 1, 0, 0, 0, 0, 0, 0, 0, 1, 0, 1, 0, 1, 0]\n",
      "['1010', 0, 0, 0, 1, 0, 0, 0, 1, 0, 1, 0, 0, 0, 1, 0, 0, 0, 1, 0, 1]\n",
      "['1011', 1, 0, 0, 0, 0, 0, 1, 0, 0, 0, 0, 0, 0, 0, 1, 0, 1, 0, 1, 0]\n",
      "['1100', 0, 0, 0, 0, 0, 1, 0, 1, 0, 1, 0, 0, 0, 1, 0, 0, 0, 1, 0, 1]\n",
      "['1101', 1, 0, 0, 0, 0, 0, 1, 0, 0, 0, 0, 0, 0, 0, 1, 0, 1, 0, 1, 0]\n",
      "['1110', 0, 0, 1, 0, 1, 0, 0, 0, 1, 0, 0, 0, 1, 0, 1, 0, 1, 0, 1, 0]\n",
      "['1111', 0, 0, 0, 0, 0, 0, 0, 0, 0, 0, 0, 0, 0, 0, 1, 0, 1, 0, 1, 0]\n",
      "Test: 0110\n",
      "Row Num: 7\n",
      "Cols Num: [3, 5, 9, 11, 13, 15, 17, 19]\n",
      "----------\n",
      "['0000', 0, 0, 0, 0, 0, 0, 1, 0, 0, 0, 0, 1]\n",
      "['0001', 0, 1, 0, 0, 0, 0, 1, 1, 0, 1, 0, 1]\n",
      "['0010', 0, 0, 1, 0, 0, 0, 1, 0, 0, 0, 0, 1]\n",
      "['0011', 0, 1, 1, 0, 0, 0, 1, 1, 0, 1, 0, 1]\n",
      "['0100', 0, 0, 0, 1, 0, 0, 1, 0, 0, 0, 0, 1]\n",
      "['0101', 0, 1, 0, 1, 0, 0, 1, 1, 0, 1, 0, 1]\n",
      "['0111', 0, 0, 0, 0, 0, 0, 0, 0, 0, 0, 0, 0]\n",
      "['1000', 0, 0, 0, 0, 0, 1, 1, 0, 1, 0, 1, 1]\n",
      "['1001', 1, 0, 0, 0, 1, 0, 0, 0, 0, 0, 0, 0]\n",
      "['1010', 0, 0, 1, 0, 0, 1, 1, 0, 1, 0, 1, 1]\n",
      "['1011', 1, 0, 0, 0, 1, 0, 0, 0, 0, 0, 0, 0]\n",
      "['1100', 0, 0, 0, 1, 0, 1, 1, 0, 1, 0, 1, 1]\n",
      "['1101', 1, 0, 0, 0, 1, 0, 0, 0, 0, 0, 0, 0]\n",
      "['1110', 0, 0, 0, 0, 0, 0, 0, 0, 0, 0, 0, 0]\n",
      "['1111', 0, 0, 0, 0, 0, 0, 0, 0, 0, 0, 0, 0]\n",
      "Test: 0011\n",
      "Row Num: 4\n",
      "Cols Num: [2, 3, 7, 8, 10, 12]\n",
      "----------\n",
      "['0000', 0, 0, 0, 0, 0, 0]\n",
      "['0001', 0, 0, 0, 0, 0, 0]\n",
      "['0010', 0, 0, 0, 0, 0, 0]\n",
      "['0100', 0, 1, 0, 0, 0, 0]\n",
      "['0101', 0, 1, 0, 0, 0, 0]\n",
      "['0111', 0, 0, 0, 0, 0, 0]\n",
      "['1000', 0, 0, 0, 1, 1, 1]\n",
      "['1001', 1, 0, 1, 0, 0, 0]\n",
      "['1010', 0, 0, 0, 1, 1, 1]\n",
      "['1011', 1, 0, 1, 0, 0, 0]\n",
      "['1100', 0, 1, 0, 1, 1, 1]\n",
      "['1101', 1, 0, 1, 0, 0, 0]\n",
      "['1110', 0, 0, 0, 0, 0, 0]\n",
      "['1111', 0, 0, 0, 0, 0, 0]\n",
      "Test: 1100\n",
      "Row Num: 11\n",
      "Cols Num: [2, 4, 5, 6]\n",
      "----------\n",
      "['0000', 0, 0]\n",
      "['0001', 0, 0]\n",
      "['0010', 0, 0]\n",
      "['0100', 0, 0]\n",
      "['0101', 0, 0]\n",
      "['0111', 0, 0]\n",
      "['1000', 0, 0]\n",
      "['1001', 1, 1]\n",
      "['1010', 0, 0]\n",
      "['1011', 1, 1]\n",
      "['1101', 1, 1]\n",
      "['1110', 0, 0]\n",
      "['1111', 0, 0]\n",
      "Test: 1001\n",
      "Row Num: 8\n",
      "Cols Num: [1, 2]\n",
      "----------\n",
      "['0000']\n",
      "['0001']\n",
      "['0010']\n",
      "['0100']\n",
      "['0101']\n",
      "['0111']\n",
      "['1000']\n",
      "['1010']\n",
      "['1011']\n",
      "['1101']\n",
      "['1110']\n",
      "['1111']\n"
     ]
    }
   ],
   "source": [
    "needed_tests, new_fault_table = prune_iterator(new_fault_table, find_needed, verbose=1)"
   ]
  },
  {
   "cell_type": "code",
   "execution_count": 12,
   "metadata": {
    "collapsed": false,
    "pycharm": {
     "name": "#%%\n"
    }
   },
   "outputs": [],
   "source": [
    "fault_discovery_set = set()"
   ]
  },
  {
   "cell_type": "code",
   "execution_count": 13,
   "metadata": {
    "collapsed": false,
    "pycharm": {
     "name": "#%%\n"
    }
   },
   "outputs": [
    {
     "name": "stdout",
     "output_type": "stream",
     "text": [
      "Essential Tests\n"
     ]
    }
   ],
   "source": [
    "print(\"Essential Tests\")\n",
    "for essential_test in essential_tests:\n",
    "    faults = all_discovered_faults[input_values.index(essential_test)]\n",
    "    faults = sorted(faults, key=fault_sorter)\n",
    "    fault_discovery_set = fault_discovery_set.union(faults)\n",
    "    print(f\"{essential_test}: {faults}\")"
   ]
  },
  {
   "cell_type": "code",
   "execution_count": 14,
   "metadata": {
    "collapsed": false,
    "pycharm": {
     "name": "#%%\n"
    }
   },
   "outputs": [
    {
     "name": "stdout",
     "output_type": "stream",
     "text": [
      "Needed Tests\n",
      "0110: ['w2_s0', 'w3_s0', 'w5_s0', 'w5_1_s0', 'w5_2_s0', 'w6_s0', 'w7_s0', 'w8_s0']\n",
      "0011: ['w1_s1', 'w2_s1', 'w5_s1', 'w5_1_s1', 'w6_s1', 'w8_s1']\n",
      "1100: ['w3_s1', 'w4_s1', 'w5_s1', 'w5_2_s1', 'w7_s1', 'w8_s1']\n",
      "1001: ['w1_s0', 'w4_s0', 'w6_s0', 'w7_s0', 'w8_s0']\n"
     ]
    }
   ],
   "source": [
    "print(\"Needed Tests\")\n",
    "for needed_test in needed_tests:\n",
    "    faults = all_discovered_faults[input_values.index(needed_test)]\n",
    "    faults = sorted(faults, key=fault_sorter)\n",
    "    fault_discovery_set = fault_discovery_set.union(faults)\n",
    "    print(f\"{needed_test}: {faults}\")"
   ]
  },
  {
   "cell_type": "code",
   "execution_count": 15,
   "metadata": {
    "collapsed": false,
    "pycharm": {
     "name": "#%%\n"
    }
   },
   "outputs": [
    {
     "name": "stdout",
     "output_type": "stream",
     "text": [
      "Fault Coverage: 100.0 %\n"
     ]
    }
   ],
   "source": [
    "n_total_faults = len(wires) * 2\n",
    "fault_coverage = len(fault_discovery_set) / n_total_faults\n",
    "print(f\"Fault Coverage: {fault_coverage * 100} %\")"
   ]
  },
  {
   "cell_type": "code",
   "execution_count": null,
   "metadata": {
    "collapsed": false,
    "pycharm": {
     "name": "#%%\n"
    }
   },
   "outputs": [],
   "source": []
  }
 ],
 "metadata": {
  "kernelspec": {
   "display_name": "Python 3",
   "language": "python",
   "name": "python3"
  },
  "language_info": {
   "codemirror_mode": {
    "name": "ipython",
    "version": 3
   },
   "file_extension": ".py",
   "mimetype": "text/x-python",
   "name": "python",
   "nbconvert_exporter": "python",
   "pygments_lexer": "ipython3",
   "version": "3.10.6"
  }
 },
 "nbformat": 4,
 "nbformat_minor": 0
}
