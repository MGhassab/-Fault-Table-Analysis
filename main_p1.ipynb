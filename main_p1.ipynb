{
 "cells": [
  {
   "cell_type": "code",
   "execution_count": 1,
   "metadata": {
    "collapsed": false,
    "pycharm": {
     "name": "#%%\n"
    }
   },
   "outputs": [],
   "source": [
    "from utils_dfs import tvs_dfs_wrapper, write_to_file"
   ]
  },
  {
   "cell_type": "code",
   "execution_count": 2,
   "metadata": {
    "collapsed": false,
    "pycharm": {
     "name": "#%%\n"
    }
   },
   "outputs": [],
   "source": [
    "bench_filepath = \"bench_files/b3.bench\"\n",
    "input_tvs_filepath = \"vector_files/b3_tvs.txt\"\n",
    "input_dfs_filepath = \"vector_files/b3_dfs.txt\"\n",
    "\n",
    "output_tvs_filepath = \"output_files/b3_tvs1.txt\"\n",
    "output_dfs_filepath = \"output_files/b3_dfs1.txt\""
   ]
  },
  {
   "cell_type": "code",
   "execution_count": 3,
   "metadata": {
    "collapsed": false,
    "pycharm": {
     "name": "#%%\n"
    }
   },
   "outputs": [
    {
     "name": "stdout",
     "output_type": "stream",
     "text": [
      "Results are saved on file output_files/b2_tvs1.txt\n"
     ]
    }
   ],
   "source": [
    "tvs_out = tvs_dfs_wrapper(bench_filepath, input_tvs_filepath, mode=\"tvs\")\n",
    "write_to_file(tvs_out, output_tvs_filepath)\n",
    "print(f\"Results are saved on file {output_tvs_filepath}\")"
   ]
  },
  {
   "cell_type": "code",
   "execution_count": 4,
   "metadata": {
    "collapsed": false,
    "pycharm": {
     "name": "#%%\n"
    }
   },
   "outputs": [
    {
     "name": "stdout",
     "output_type": "stream",
     "text": [
      "Number of detected faults: 9\n",
      "Total number of faults: 30\n",
      "Fault Coverage: 0.3\n",
      "Results are saved on file output_files/b2_dfs1.txt\n"
     ]
    }
   ],
   "source": [
    "dfs_out = tvs_dfs_wrapper(bench_filepath, input_dfs_filepath, mode=\"dfs\")\n",
    "write_to_file(dfs_out, output_dfs_filepath)\n",
    "print(f\"Results are saved on file {output_dfs_filepath}\")"
   ]
  }
 ],
 "metadata": {
  "kernelspec": {
   "display_name": "Python 3",
   "language": "python",
   "name": "python3"
  },
  "language_info": {
   "codemirror_mode": {
    "name": "ipython",
    "version": 3
   },
   "file_extension": ".py",
   "mimetype": "text/x-python",
   "name": "python",
   "nbconvert_exporter": "python",
   "pygments_lexer": "ipython3",
   "version": "3.10.6"
  }
 },
 "nbformat": 4,
 "nbformat_minor": 0
}
